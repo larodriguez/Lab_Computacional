{
 "metadata": {
  "name": "",
  "signature": "sha256:a66c276d0aa526f9a3cf0bc8e86f578f24cb0ac7b461aaa08178f1bc9d4e19e2"
 },
 "nbformat": 3,
 "nbformat_minor": 0,
 "worksheets": [
  {
   "cells": [
    {
     "cell_type": "heading",
     "level": 1,
     "metadata": {},
     "source": [
      "ANIMACIONES EN MATPLOTLIB "
     ]
    },
    {
     "cell_type": "heading",
     "level": 4,
     "metadata": {},
     "source": [
      "Luis Alejandro Rodr\u00edguez Parra"
     ]
    },
    {
     "cell_type": "markdown",
     "metadata": {},
     "source": [
      "EN ESTE NOTEBOOK SE HACE UNA PEQUE\u00d1A EXPLICACION DE ALGUNAS FUNCIONALIDADES DE MATPLOTLIB PARA REALIZAR GRAFICAS ANIMADAS, TODO EL CONTENIDO ESTA BASADO EN Creating Interactive Applications in Matplotlib DE Jake Vanderplas, https://github.com/jakevdp"
     ]
    },
    {
     "cell_type": "markdown",
     "metadata": {},
     "source": [
      "Lo primero que vamos a realizar es imprtar pylab para tener nuestra libreria Matplotlib, generalemnte importamos %pylab inline, pero para este caso como vamos a trabajar con animaciones unicamente vamos a escribir %pylab, esto nos permite que las graficas que realicemos aparezcan en otra ventana donde se pueden tener animadas, por medio de botones o movimientos del cursor.\n",
      "\n"
     ]
    },
    {
     "cell_type": "code",
     "collapsed": false,
     "input": [
      "%pylab"
     ],
     "language": "python",
     "metadata": {},
     "outputs": [
      {
       "output_type": "stream",
       "stream": "stdout",
       "text": [
        "Using matplotlib backend: MacOSX\n",
        "Populating the interactive namespace from numpy and matplotlib\n"
       ]
      }
     ],
     "prompt_number": 2
    },
    {
     "cell_type": "heading",
     "level": 3,
     "metadata": {},
     "source": [
      "Animaci\u00f3n 1"
     ]
    },
    {
     "cell_type": "markdown",
     "metadata": {},
     "source": [
      "En esta animaci\u00f3n vamos a mostrar el movimiento de una funci\u00f3n periodica por medio de un ciclo for donde se esta cambiando el perdiodo, en este caso la animaci\u00f3n corre sola y reproduce una sola vez, cada actualizaci\u00f3n del metodo. En este caso utilizaremos \"rcParams\" de Matplotlib"
     ]
    },
    {
     "cell_type": "code",
     "collapsed": false,
     "input": [
      "from matplotlib import rcParams\n",
      "\n",
      "#Comenzamos con una grafica simple de una funci\u00f3n periodica como el Coseno\n",
      "x = np.linspace(0, 10, 1000)\n",
      "\n",
      "#Para cambiar el color del fondo de la animaci\u00f3n\n",
      "matplotlib.rcParams['figure.facecolor'] = 'g'\n",
      "\n",
      "#Definimos fig y ax como subplots para generar la imagen\n",
      "fig, ax = plt.subplots()\n",
      "lines = ax.plot(x, np.cos(x))\n",
      "print lines\n",
      "\n",
      "#De esta manera cambiamos es color de la grafica\n",
      "lines[0].set_color('green')\n",
      "fig.canvas.draw()\n",
      "\n",
      "#Para definir el grosor de la linea\n",
      "lines[0].set_linewidth(6)\n",
      "fig.canvas.draw()\n",
      " \n",
      "#Para agregar alg\u00fan texto encima de la grafica, podemos definir el tama\u00f1o, el color y la ubicaci\u00f3n que tenga\n",
      "txt = plt.text(5, 0.5, \"Animacion 1\")\n",
      "txt.set_size(20)\n",
      "txt.set_color('red')\n",
      "fig.canvas.draw()\n",
      "\n",
      "#En este caso de la funcion periodica podemos modificar su periodo\n",
      "lines[0].set_ydata(np.cos(2 * x))\n",
      "fig.canvas.draw()\n",
      "\n",
      "#Para nuestra animacion 1 vamos a hacer un ciclo en el cual el periodo de la funcion va a ir\n",
      "#cambiando, y la grafica va a mostrar este patron\n",
      "for i in range(100):\n",
      "    lines[0].set_ydata(np.sin(x + 0.1 * i))\n",
      "    fig.canvas.draw()\n",
      "    \n",
      "#El modulo canvas.daw() nos sirve para que cada uno de los cambios que estamos generando en la animaci\u00f3n se guarden.\n",
      "\n",
      "#Finalmente es importante anotar que la animaci\u00f3n generalmente aparece en la parte de atras de la ventana del explorador y \n",
      "#despues de que corre, se mueve para adelante, por lo que es importante tener el explorador un poco corrido al lado para ver la \n",
      "#animaci\u00f3n."
     ],
     "language": "python",
     "metadata": {},
     "outputs": [
      {
       "output_type": "stream",
       "stream": "stdout",
       "text": [
        "[<matplotlib.lines.Line2D object at 0x105f32e10>]\n"
       ]
      }
     ],
     "prompt_number": 3
    },
    {
     "cell_type": "heading",
     "level": 3,
     "metadata": {},
     "source": [
      "Animaci\u00f3n 2"
     ]
    },
    {
     "cell_type": "markdown",
     "metadata": {},
     "source": [
      "En esta animaci\u00f3n vamos a mostrar el movimiento de una funci\u00f3n periodica, en este caso la animaci\u00f3n se corre por medio de dos opciones o botones, en el primer caso, o barra de movimeinto para la segunda. Reproduce una sola vez, cada actualizaci\u00f3n del metodo. En este caso utilizaremos \"Button y Slider\" de Matplotlib"
     ]
    },
    {
     "cell_type": "code",
     "collapsed": false,
     "input": [
      "from matplotlib.widgets import Button\n",
      "\n",
      "fig, ax = plt.subplots()\n",
      "fig.subplots_adjust(bottom=0.2)\n",
      "\n",
      "t = np.linspace(0, 10, 1000)\n",
      "line, = plt.plot(t, np.sin(t), lw=2)\n",
      "\n",
      "class Index:\n",
      "    dt = 0\n",
      "    def next(self, event):\n",
      "        self.dt -= 1\n",
      "        line.set_ydata(np.sin(t + self.dt))\n",
      "        fig.canvas.draw()\n",
      "\n",
      "    def prev(self, event):\n",
      "        self.dt += 1\n",
      "        line.set_ydata(np.sin(t + self.dt))\n",
      "        fig.canvas.draw()\n",
      "\n",
      "callback = Index()\n",
      "axprev = plt.axes([0.7, 0.05, 0.1, 0.075])\n",
      "axnext = plt.axes([0.81, 0.05, 0.1, 0.075])\n",
      "\n",
      "bnext = Button(axnext, '>')\n",
      "bnext.on_clicked(callback.next)\n",
      "\n",
      "bprev = Button(axprev, '<')\n",
      "bprev.on_clicked(callback.prev)"
     ],
     "language": "python",
     "metadata": {},
     "outputs": [
      {
       "metadata": {},
       "output_type": "pyout",
       "prompt_number": 4,
       "text": [
        "0"
       ]
      }
     ],
     "prompt_number": 4
    },
    {
     "cell_type": "code",
     "collapsed": false,
     "input": [
      "from matplotlib.widgets import Slider\n",
      "\n",
      "fig, ax = plt.subplots()\n",
      "fig.subplots_adjust(bottom=0.2, left=0.1)\n",
      "\n",
      "t = np.linspace(0, 10, 1000)\n",
      "line, = plt.plot(t, np.sin(t), lw=2)\n",
      "\n",
      "def on_change(val):\n",
      "    line.set_ydata(np.sin(t - val))\n",
      "\n",
      "slider_ax = plt.axes([0.2, 0.1, 0.6, 0.02])\n",
      "slider = Slider(slider_ax, \"Movimiento\", -5, 5, valinit=0, color='b')\n",
      "slider.on_changed(on_change)\n"
     ],
     "language": "python",
     "metadata": {},
     "outputs": [
      {
       "metadata": {},
       "output_type": "pyout",
       "prompt_number": 5,
       "text": [
        "0"
       ]
      }
     ],
     "prompt_number": 5
    },
    {
     "cell_type": "heading",
     "level": 3,
     "metadata": {},
     "source": [
      "Animaci\u00f3n 3"
     ]
    },
    {
     "cell_type": "markdown",
     "metadata": {},
     "source": [
      "En esta animaci\u00f3n vamos a realizar varias graficas de una funci\u00f3n periodica con diferentes frecuencias, las cuales van a mostrarse despues de seleccionar el determinado boton. En este caso utilizaremos \"CheckButtons\" de Matplotlib"
     ]
    },
    {
     "cell_type": "code",
     "collapsed": false,
     "input": [
      "from matplotlib.widgets import CheckButtons\n",
      "\n",
      "fig, ax = plt.subplots()\n",
      "fig.subplots_adjust(left=0.2)\n",
      "\n",
      "#Graficamos cada una de las funciones periodicas\n",
      "freqs = np.arange(1, 4)\n",
      "t = np.linspace(0, 2, 1000)\n",
      "s = np.sin(2 * np.pi * freqs[:, None] * t)\n",
      "lines = plt.plot(t, s.T, lw=2, visible=False)\n",
      "ax.set_ylim(-1.5, 1.5)\n",
      "\n",
      "# Generamos un boton para cada una de las graficas, que queremos en la animaci\u00f3n\n",
      "rax = plt.axes([0.02, 0.4, 0.13, 0.2], aspect='equal')\n",
      "labels = ('2 Hz', '4 Hz', '6 Hz')\n",
      "check = CheckButtons(rax, labels, (False, False, False))\n",
      "\n",
      "def func(label):\n",
      "    i = labels.index(label)\n",
      "    lines[i].set_visible(not lines[i].get_visible())\n",
      "    fig.canvas.draw()\n",
      "\n",
      "check.on_clicked(func)"
     ],
     "language": "python",
     "metadata": {},
     "outputs": [
      {
       "metadata": {},
       "output_type": "pyout",
       "prompt_number": 13,
       "text": [
        "0"
       ]
      }
     ],
     "prompt_number": 13
    },
    {
     "cell_type": "heading",
     "level": 3,
     "metadata": {},
     "source": [
      "Animaci\u00f3n 4"
     ]
    },
    {
     "cell_type": "markdown",
     "metadata": {},
     "source": [
      "En esta animaci\u00f3n, al igual que en la anterior, vamos a trabajr con botones a un lado, pero en este caso los utilizaremos para mostrar una misma grafica con diferente elelmento, ej: --------- , -.-.-.-.- , .......... , +++++++++++. En este caso utilizaremos \"RadioButtons\" de Matplotlib"
     ]
    },
    {
     "cell_type": "code",
     "collapsed": false,
     "input": [
      "from matplotlib.widgets import RadioButtons\n",
      "\n",
      "fig, ax = plt.subplots()\n",
      "fig.subplots_adjust(left=0.3)\n",
      "\n",
      "t = np.linspace(0, 10, 1000)\n",
      "lines = ax.plot(t, np.sin(t))\n",
      "\n",
      "rax = plt.axes([0.05, 0.4, 0.15, 0.15])\n",
      "radio = RadioButtons(rax, ('-', '--', '-.', ':'))\n",
      "\n",
      "def stylefunc(label):\n",
      "    lines[0].set_linestyle(label)\n",
      "    plt.draw()\n",
      "    \n",
      "radio.on_clicked(stylefunc)"
     ],
     "language": "python",
     "metadata": {},
     "outputs": [
      {
       "metadata": {},
       "output_type": "pyout",
       "prompt_number": 16,
       "text": [
        "0"
       ]
      }
     ],
     "prompt_number": 16
    },
    {
     "cell_type": "heading",
     "level": 3,
     "metadata": {},
     "source": [
      "Animaci\u00f3n 5"
     ]
    },
    {
     "cell_type": "markdown",
     "metadata": {},
     "source": [
      "En este caso, vamos a suponer que tenemos un determinado numero de puntos, por ejemplo una distribuci\u00f3n aleatoria de puntos sobre un area deterinada, y el objetivo de la animaci\u00f3n es permitir seleccionar con el cursor un area determinada. En este caso utilizaremos \"RectangleSector\" de Matplotlib"
     ]
    },
    {
     "cell_type": "code",
     "collapsed": false,
     "input": [
      "from matplotlib.widgets import RectangleSelector\n",
      "\n",
      "fig, ax = plt.subplots()\n",
      "x = np.random.normal(size=1000)\n",
      "y = np.random.normal(size=1000)\n",
      "c = np.zeros((1000, 3))\n",
      "c[:, 1] = 1\n",
      "points = ax.scatter(x, y, s=20, c=c)\n",
      "\n",
      "def selector_callback(eclick, erelease):\n",
      "    x1, y1 = eclick.xdata, eclick.ydata\n",
      "    x2, y2 = erelease.xdata, erelease.ydata\n",
      "    global c\n",
      "    c[(x >= min(x1, x2)) & (x <= max(x1, x2))\n",
      "      & (y >= min(y1, y2)) & (y <= max(y1, y2))] = [1, 0, 0]\n",
      "    points.set_facecolors(c)\n",
      "    fig.canvas.draw()\n",
      "    \n",
      "    \n",
      "selector = RectangleSelector(ax, selector_callback,\n",
      "                             drawtype='box', useblit=True,\n",
      "                             button=[1,3], # don't use middle button\n",
      "                             minspanx=5, minspany=5,\n",
      "                             spancoords='pixels')"
     ],
     "language": "python",
     "metadata": {},
     "outputs": [],
     "prompt_number": 19
    },
    {
     "cell_type": "markdown",
     "metadata": {},
     "source": [
      "NOTA: Para utilizar esta animaci\u00f3n el usuario tiene que seleccionar un area deteminada con el cursor del computador"
     ]
    },
    {
     "cell_type": "heading",
     "level": 3,
     "metadata": {},
     "source": [
      "Animaci\u00f3n 6"
     ]
    },
    {
     "cell_type": "markdown",
     "metadata": {},
     "source": [
      "Los cursores nos permiten conocer una posici\u00f3n especifica de un punto o las coordenadas de un lugar cuando estamos trabajando con mapas. En esta animaci\u00f3n se muestra una distribuci\u00f3n de puntos sobre un cuadrante determinado y el cursor para ubicar la posici\u00f3n de cada uno de ellos. En el primer caso es para una sola grafica y en el segundo es para dos graficas. En este caso utilizaremos \"Cursoy y MultiCursor\" de Matplotlib"
     ]
    },
    {
     "cell_type": "code",
     "collapsed": false,
     "input": [
      "from matplotlib.widgets import Cursor\n",
      "\n",
      "fig, ax = plt.subplots()\n",
      "\n",
      "ax.scatter(np.random.normal(size=1000), np.random.normal(size=1000))\n",
      "\n",
      "# useblit = True can lead to better performance on some backends\n",
      "cursor = Cursor(ax, useblit=True, color='gray', linewidth=1)"
     ],
     "language": "python",
     "metadata": {},
     "outputs": [],
     "prompt_number": 20
    },
    {
     "cell_type": "code",
     "collapsed": false,
     "input": [
      "from matplotlib.widgets import MultiCursor\n",
      "\n",
      "fig, ax = plt.subplots(2)\n",
      "\n",
      "x, y, z = np.random.normal(0, 1, (3, 1000))\n",
      "\n",
      "ax[0].scatter(x, y)\n",
      "ax[1].scatter(x, z)\n",
      "\n",
      "multi = MultiCursor(fig.canvas, ax, useblit=True, color='gray', lw=1)"
     ],
     "language": "python",
     "metadata": {},
     "outputs": [],
     "prompt_number": 21
    },
    {
     "cell_type": "code",
     "collapsed": false,
     "input": [],
     "language": "python",
     "metadata": {},
     "outputs": [],
     "prompt_number": 61
    },
    {
     "cell_type": "code",
     "collapsed": false,
     "input": [],
     "language": "python",
     "metadata": {},
     "outputs": []
    }
   ],
   "metadata": {}
  }
 ]
}